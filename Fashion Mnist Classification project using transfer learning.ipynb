{
  "nbformat": 4,
  "nbformat_minor": 0,
  "metadata": {
    "colab": {
      "provenance": [],
      "gpuType": "T4"
    },
    "kernelspec": {
      "name": "python3",
      "display_name": "Python 3"
    },
    "language_info": {
      "name": "python"
    },
    "accelerator": "GPU"
  },
  "cells": [
    {
      "cell_type": "markdown",
      "source": [
        "### 1: load the Data\n",
        "### 2: Convert to pytorch tensor\n"
      ],
      "metadata": {
        "id": "AaFWH7NyuqMP"
      }
    },
    {
      "cell_type": "markdown",
      "source": [
        "# 1. IMPORT LIBRARIES\n",
        "# =========================================="
      ],
      "metadata": {
        "id": "tUoBb_reebMX"
      }
    },
    {
      "cell_type": "code",
      "execution_count": null,
      "metadata": {
        "id": "EhZMtSdM3W4N"
      },
      "outputs": [],
      "source": [
        "import pandas as pd\n",
        "import numpy as np\n",
        "import matplotlib.pyplot as plt\n",
        "import seaborn as sns\n",
        "import torch\n",
        "import torch.nn as nn\n",
        "import torch.optim as optim\n",
        "from torch.utils.data import Dataset, DataLoader\n",
        "from sklearn.model_selection import train_test_split\n",
        "from sklearn.metrics import classification_report, confusion_matrix\n",
        "from torchvision import models, transforms\n",
        "from PIL import Image"
      ]
    },
    {
      "cell_type": "code",
      "source": [],
      "metadata": {
        "id": "JvpHhVq3-EkU"
      },
      "execution_count": null,
      "outputs": []
    },
    {
      "cell_type": "markdown",
      "source": [
        "# 2. LOAD DATASET\n",
        "# =========================================="
      ],
      "metadata": {
        "id": "grGnMzZBeHTI"
      }
    },
    {
      "cell_type": "code",
      "source": [
        "df = pd.read_csv(\"/content/fmnist_small.csv\")\n",
        "print(f\"Dataset shape: {df.shape}\")\n",
        "df.head()\n"
      ],
      "metadata": {
        "colab": {
          "base_uri": "https://localhost:8080/",
          "height": 273
        },
        "id": "7lZjGSXR35Qz",
        "outputId": "6061b41c-692e-427c-9c9b-295759e2f035"
      },
      "execution_count": null,
      "outputs": [
        {
          "output_type": "stream",
          "name": "stdout",
          "text": [
            "Dataset shape: (6000, 785)\n"
          ]
        },
        {
          "output_type": "execute_result",
          "data": {
            "text/plain": [
              "   label  pixel1  pixel2  pixel3  pixel4  pixel5  pixel6  pixel7  pixel8  \\\n",
              "0      9       0       0       0       0       0       0       0       0   \n",
              "1      7       0       0       0       0       0       0       0       0   \n",
              "2      0       0       0       0       0       0       1       0       0   \n",
              "3      8       0       0       0       0       0       0       0       0   \n",
              "4      8       0       0       0       0       0       0       0       0   \n",
              "\n",
              "   pixel9  ...  pixel775  pixel776  pixel777  pixel778  pixel779  pixel780  \\\n",
              "0       0  ...         0         7         0        50       205       196   \n",
              "1       0  ...         0         0         0         0         0         0   \n",
              "2       0  ...       142       142       142        21         0         3   \n",
              "3       0  ...         0         0         0         0         0         0   \n",
              "4       0  ...       213       203       174       151       188        10   \n",
              "\n",
              "   pixel781  pixel782  pixel783  pixel784  \n",
              "0       213       165         0         0  \n",
              "1         0         0         0         0  \n",
              "2         0         0         0         0  \n",
              "3         0         0         0         0  \n",
              "4         0         0         0         0  \n",
              "\n",
              "[5 rows x 785 columns]"
            ],
            "text/html": [
              "\n",
              "  <div id=\"df-38408f35-4945-4653-b2f5-70097148c1b7\" class=\"colab-df-container\">\n",
              "    <div>\n",
              "<style scoped>\n",
              "    .dataframe tbody tr th:only-of-type {\n",
              "        vertical-align: middle;\n",
              "    }\n",
              "\n",
              "    .dataframe tbody tr th {\n",
              "        vertical-align: top;\n",
              "    }\n",
              "\n",
              "    .dataframe thead th {\n",
              "        text-align: right;\n",
              "    }\n",
              "</style>\n",
              "<table border=\"1\" class=\"dataframe\">\n",
              "  <thead>\n",
              "    <tr style=\"text-align: right;\">\n",
              "      <th></th>\n",
              "      <th>label</th>\n",
              "      <th>pixel1</th>\n",
              "      <th>pixel2</th>\n",
              "      <th>pixel3</th>\n",
              "      <th>pixel4</th>\n",
              "      <th>pixel5</th>\n",
              "      <th>pixel6</th>\n",
              "      <th>pixel7</th>\n",
              "      <th>pixel8</th>\n",
              "      <th>pixel9</th>\n",
              "      <th>...</th>\n",
              "      <th>pixel775</th>\n",
              "      <th>pixel776</th>\n",
              "      <th>pixel777</th>\n",
              "      <th>pixel778</th>\n",
              "      <th>pixel779</th>\n",
              "      <th>pixel780</th>\n",
              "      <th>pixel781</th>\n",
              "      <th>pixel782</th>\n",
              "      <th>pixel783</th>\n",
              "      <th>pixel784</th>\n",
              "    </tr>\n",
              "  </thead>\n",
              "  <tbody>\n",
              "    <tr>\n",
              "      <th>0</th>\n",
              "      <td>9</td>\n",
              "      <td>0</td>\n",
              "      <td>0</td>\n",
              "      <td>0</td>\n",
              "      <td>0</td>\n",
              "      <td>0</td>\n",
              "      <td>0</td>\n",
              "      <td>0</td>\n",
              "      <td>0</td>\n",
              "      <td>0</td>\n",
              "      <td>...</td>\n",
              "      <td>0</td>\n",
              "      <td>7</td>\n",
              "      <td>0</td>\n",
              "      <td>50</td>\n",
              "      <td>205</td>\n",
              "      <td>196</td>\n",
              "      <td>213</td>\n",
              "      <td>165</td>\n",
              "      <td>0</td>\n",
              "      <td>0</td>\n",
              "    </tr>\n",
              "    <tr>\n",
              "      <th>1</th>\n",
              "      <td>7</td>\n",
              "      <td>0</td>\n",
              "      <td>0</td>\n",
              "      <td>0</td>\n",
              "      <td>0</td>\n",
              "      <td>0</td>\n",
              "      <td>0</td>\n",
              "      <td>0</td>\n",
              "      <td>0</td>\n",
              "      <td>0</td>\n",
              "      <td>...</td>\n",
              "      <td>0</td>\n",
              "      <td>0</td>\n",
              "      <td>0</td>\n",
              "      <td>0</td>\n",
              "      <td>0</td>\n",
              "      <td>0</td>\n",
              "      <td>0</td>\n",
              "      <td>0</td>\n",
              "      <td>0</td>\n",
              "      <td>0</td>\n",
              "    </tr>\n",
              "    <tr>\n",
              "      <th>2</th>\n",
              "      <td>0</td>\n",
              "      <td>0</td>\n",
              "      <td>0</td>\n",
              "      <td>0</td>\n",
              "      <td>0</td>\n",
              "      <td>0</td>\n",
              "      <td>1</td>\n",
              "      <td>0</td>\n",
              "      <td>0</td>\n",
              "      <td>0</td>\n",
              "      <td>...</td>\n",
              "      <td>142</td>\n",
              "      <td>142</td>\n",
              "      <td>142</td>\n",
              "      <td>21</td>\n",
              "      <td>0</td>\n",
              "      <td>3</td>\n",
              "      <td>0</td>\n",
              "      <td>0</td>\n",
              "      <td>0</td>\n",
              "      <td>0</td>\n",
              "    </tr>\n",
              "    <tr>\n",
              "      <th>3</th>\n",
              "      <td>8</td>\n",
              "      <td>0</td>\n",
              "      <td>0</td>\n",
              "      <td>0</td>\n",
              "      <td>0</td>\n",
              "      <td>0</td>\n",
              "      <td>0</td>\n",
              "      <td>0</td>\n",
              "      <td>0</td>\n",
              "      <td>0</td>\n",
              "      <td>...</td>\n",
              "      <td>0</td>\n",
              "      <td>0</td>\n",
              "      <td>0</td>\n",
              "      <td>0</td>\n",
              "      <td>0</td>\n",
              "      <td>0</td>\n",
              "      <td>0</td>\n",
              "      <td>0</td>\n",
              "      <td>0</td>\n",
              "      <td>0</td>\n",
              "    </tr>\n",
              "    <tr>\n",
              "      <th>4</th>\n",
              "      <td>8</td>\n",
              "      <td>0</td>\n",
              "      <td>0</td>\n",
              "      <td>0</td>\n",
              "      <td>0</td>\n",
              "      <td>0</td>\n",
              "      <td>0</td>\n",
              "      <td>0</td>\n",
              "      <td>0</td>\n",
              "      <td>0</td>\n",
              "      <td>...</td>\n",
              "      <td>213</td>\n",
              "      <td>203</td>\n",
              "      <td>174</td>\n",
              "      <td>151</td>\n",
              "      <td>188</td>\n",
              "      <td>10</td>\n",
              "      <td>0</td>\n",
              "      <td>0</td>\n",
              "      <td>0</td>\n",
              "      <td>0</td>\n",
              "    </tr>\n",
              "  </tbody>\n",
              "</table>\n",
              "<p>5 rows × 785 columns</p>\n",
              "</div>\n",
              "    <div class=\"colab-df-buttons\">\n",
              "\n",
              "  <div class=\"colab-df-container\">\n",
              "    <button class=\"colab-df-convert\" onclick=\"convertToInteractive('df-38408f35-4945-4653-b2f5-70097148c1b7')\"\n",
              "            title=\"Convert this dataframe to an interactive table.\"\n",
              "            style=\"display:none;\">\n",
              "\n",
              "  <svg xmlns=\"http://www.w3.org/2000/svg\" height=\"24px\" viewBox=\"0 -960 960 960\">\n",
              "    <path d=\"M120-120v-720h720v720H120Zm60-500h600v-160H180v160Zm220 220h160v-160H400v160Zm0 220h160v-160H400v160ZM180-400h160v-160H180v160Zm440 0h160v-160H620v160ZM180-180h160v-160H180v160Zm440 0h160v-160H620v160Z\"/>\n",
              "  </svg>\n",
              "    </button>\n",
              "\n",
              "  <style>\n",
              "    .colab-df-container {\n",
              "      display:flex;\n",
              "      gap: 12px;\n",
              "    }\n",
              "\n",
              "    .colab-df-convert {\n",
              "      background-color: #E8F0FE;\n",
              "      border: none;\n",
              "      border-radius: 50%;\n",
              "      cursor: pointer;\n",
              "      display: none;\n",
              "      fill: #1967D2;\n",
              "      height: 32px;\n",
              "      padding: 0 0 0 0;\n",
              "      width: 32px;\n",
              "    }\n",
              "\n",
              "    .colab-df-convert:hover {\n",
              "      background-color: #E2EBFA;\n",
              "      box-shadow: 0px 1px 2px rgba(60, 64, 67, 0.3), 0px 1px 3px 1px rgba(60, 64, 67, 0.15);\n",
              "      fill: #174EA6;\n",
              "    }\n",
              "\n",
              "    .colab-df-buttons div {\n",
              "      margin-bottom: 4px;\n",
              "    }\n",
              "\n",
              "    [theme=dark] .colab-df-convert {\n",
              "      background-color: #3B4455;\n",
              "      fill: #D2E3FC;\n",
              "    }\n",
              "\n",
              "    [theme=dark] .colab-df-convert:hover {\n",
              "      background-color: #434B5C;\n",
              "      box-shadow: 0px 1px 3px 1px rgba(0, 0, 0, 0.15);\n",
              "      filter: drop-shadow(0px 1px 2px rgba(0, 0, 0, 0.3));\n",
              "      fill: #FFFFFF;\n",
              "    }\n",
              "  </style>\n",
              "\n",
              "    <script>\n",
              "      const buttonEl =\n",
              "        document.querySelector('#df-38408f35-4945-4653-b2f5-70097148c1b7 button.colab-df-convert');\n",
              "      buttonEl.style.display =\n",
              "        google.colab.kernel.accessAllowed ? 'block' : 'none';\n",
              "\n",
              "      async function convertToInteractive(key) {\n",
              "        const element = document.querySelector('#df-38408f35-4945-4653-b2f5-70097148c1b7');\n",
              "        const dataTable =\n",
              "          await google.colab.kernel.invokeFunction('convertToInteractive',\n",
              "                                                    [key], {});\n",
              "        if (!dataTable) return;\n",
              "\n",
              "        const docLinkHtml = 'Like what you see? Visit the ' +\n",
              "          '<a target=\"_blank\" href=https://colab.research.google.com/notebooks/data_table.ipynb>data table notebook</a>'\n",
              "          + ' to learn more about interactive tables.';\n",
              "        element.innerHTML = '';\n",
              "        dataTable['output_type'] = 'display_data';\n",
              "        await google.colab.output.renderOutput(dataTable, element);\n",
              "        const docLink = document.createElement('div');\n",
              "        docLink.innerHTML = docLinkHtml;\n",
              "        element.appendChild(docLink);\n",
              "      }\n",
              "    </script>\n",
              "  </div>\n",
              "\n",
              "\n",
              "    <div id=\"df-37db2fe6-28f2-47b2-bf3b-aec96cff5e59\">\n",
              "      <button class=\"colab-df-quickchart\" onclick=\"quickchart('df-37db2fe6-28f2-47b2-bf3b-aec96cff5e59')\"\n",
              "                title=\"Suggest charts\"\n",
              "                style=\"display:none;\">\n",
              "\n",
              "<svg xmlns=\"http://www.w3.org/2000/svg\" height=\"24px\"viewBox=\"0 0 24 24\"\n",
              "     width=\"24px\">\n",
              "    <g>\n",
              "        <path d=\"M19 3H5c-1.1 0-2 .9-2 2v14c0 1.1.9 2 2 2h14c1.1 0 2-.9 2-2V5c0-1.1-.9-2-2-2zM9 17H7v-7h2v7zm4 0h-2V7h2v10zm4 0h-2v-4h2v4z\"/>\n",
              "    </g>\n",
              "</svg>\n",
              "      </button>\n",
              "\n",
              "<style>\n",
              "  .colab-df-quickchart {\n",
              "      --bg-color: #E8F0FE;\n",
              "      --fill-color: #1967D2;\n",
              "      --hover-bg-color: #E2EBFA;\n",
              "      --hover-fill-color: #174EA6;\n",
              "      --disabled-fill-color: #AAA;\n",
              "      --disabled-bg-color: #DDD;\n",
              "  }\n",
              "\n",
              "  [theme=dark] .colab-df-quickchart {\n",
              "      --bg-color: #3B4455;\n",
              "      --fill-color: #D2E3FC;\n",
              "      --hover-bg-color: #434B5C;\n",
              "      --hover-fill-color: #FFFFFF;\n",
              "      --disabled-bg-color: #3B4455;\n",
              "      --disabled-fill-color: #666;\n",
              "  }\n",
              "\n",
              "  .colab-df-quickchart {\n",
              "    background-color: var(--bg-color);\n",
              "    border: none;\n",
              "    border-radius: 50%;\n",
              "    cursor: pointer;\n",
              "    display: none;\n",
              "    fill: var(--fill-color);\n",
              "    height: 32px;\n",
              "    padding: 0;\n",
              "    width: 32px;\n",
              "  }\n",
              "\n",
              "  .colab-df-quickchart:hover {\n",
              "    background-color: var(--hover-bg-color);\n",
              "    box-shadow: 0 1px 2px rgba(60, 64, 67, 0.3), 0 1px 3px 1px rgba(60, 64, 67, 0.15);\n",
              "    fill: var(--button-hover-fill-color);\n",
              "  }\n",
              "\n",
              "  .colab-df-quickchart-complete:disabled,\n",
              "  .colab-df-quickchart-complete:disabled:hover {\n",
              "    background-color: var(--disabled-bg-color);\n",
              "    fill: var(--disabled-fill-color);\n",
              "    box-shadow: none;\n",
              "  }\n",
              "\n",
              "  .colab-df-spinner {\n",
              "    border: 2px solid var(--fill-color);\n",
              "    border-color: transparent;\n",
              "    border-bottom-color: var(--fill-color);\n",
              "    animation:\n",
              "      spin 1s steps(1) infinite;\n",
              "  }\n",
              "\n",
              "  @keyframes spin {\n",
              "    0% {\n",
              "      border-color: transparent;\n",
              "      border-bottom-color: var(--fill-color);\n",
              "      border-left-color: var(--fill-color);\n",
              "    }\n",
              "    20% {\n",
              "      border-color: transparent;\n",
              "      border-left-color: var(--fill-color);\n",
              "      border-top-color: var(--fill-color);\n",
              "    }\n",
              "    30% {\n",
              "      border-color: transparent;\n",
              "      border-left-color: var(--fill-color);\n",
              "      border-top-color: var(--fill-color);\n",
              "      border-right-color: var(--fill-color);\n",
              "    }\n",
              "    40% {\n",
              "      border-color: transparent;\n",
              "      border-right-color: var(--fill-color);\n",
              "      border-top-color: var(--fill-color);\n",
              "    }\n",
              "    60% {\n",
              "      border-color: transparent;\n",
              "      border-right-color: var(--fill-color);\n",
              "    }\n",
              "    80% {\n",
              "      border-color: transparent;\n",
              "      border-right-color: var(--fill-color);\n",
              "      border-bottom-color: var(--fill-color);\n",
              "    }\n",
              "    90% {\n",
              "      border-color: transparent;\n",
              "      border-bottom-color: var(--fill-color);\n",
              "    }\n",
              "  }\n",
              "</style>\n",
              "\n",
              "      <script>\n",
              "        async function quickchart(key) {\n",
              "          const quickchartButtonEl =\n",
              "            document.querySelector('#' + key + ' button');\n",
              "          quickchartButtonEl.disabled = true;  // To prevent multiple clicks.\n",
              "          quickchartButtonEl.classList.add('colab-df-spinner');\n",
              "          try {\n",
              "            const charts = await google.colab.kernel.invokeFunction(\n",
              "                'suggestCharts', [key], {});\n",
              "          } catch (error) {\n",
              "            console.error('Error during call to suggestCharts:', error);\n",
              "          }\n",
              "          quickchartButtonEl.classList.remove('colab-df-spinner');\n",
              "          quickchartButtonEl.classList.add('colab-df-quickchart-complete');\n",
              "        }\n",
              "        (() => {\n",
              "          let quickchartButtonEl =\n",
              "            document.querySelector('#df-37db2fe6-28f2-47b2-bf3b-aec96cff5e59 button');\n",
              "          quickchartButtonEl.style.display =\n",
              "            google.colab.kernel.accessAllowed ? 'block' : 'none';\n",
              "        })();\n",
              "      </script>\n",
              "    </div>\n",
              "\n",
              "    </div>\n",
              "  </div>\n"
            ],
            "application/vnd.google.colaboratory.intrinsic+json": {
              "type": "dataframe",
              "variable_name": "df"
            }
          },
          "metadata": {},
          "execution_count": 4
        }
      ]
    },
    {
      "cell_type": "markdown",
      "source": [
        "# 3. EDA (Exploratory Data Analysis)\n",
        "# =========================================="
      ],
      "metadata": {
        "id": "Fk13b27ie37f"
      }
    },
    {
      "cell_type": "code",
      "source": [
        "# Check missing values\n",
        "print(f\"Missing values: {df.isnull().sum().sum()}\")"
      ],
      "metadata": {
        "colab": {
          "base_uri": "https://localhost:8080/"
        },
        "id": "WnQ6RB12ew59",
        "outputId": "a05b8059-c97b-427d-a356-e2ca982563d7"
      },
      "execution_count": null,
      "outputs": [
        {
          "output_type": "stream",
          "name": "stdout",
          "text": [
            "Missing values: 0\n"
          ]
        }
      ]
    },
    {
      "cell_type": "code",
      "source": [
        "x = df.drop(columns=['label'])\n",
        "y = df['label']\n",
        "\n"
      ],
      "metadata": {
        "id": "yVBNBfV9ew4M"
      },
      "execution_count": null,
      "outputs": []
    },
    {
      "cell_type": "code",
      "source": [
        "# Class distribution\n",
        "plt.figure(figsize=(8,5))\n",
        "sns.countplot(x=y, palette='viridis')\n",
        "plt.title(\"Class Distribution\")\n",
        "plt.xlabel(\"Class Label\")\n",
        "plt.ylabel(\"Count\")\n",
        "plt.show()"
      ],
      "metadata": {
        "colab": {
          "base_uri": "https://localhost:8080/",
          "height": 594
        },
        "id": "2d8KYHD_ewy5",
        "outputId": "25f44798-01ad-4113-9f1b-85875c683ce3"
      },
      "execution_count": null,
      "outputs": [
        {
          "output_type": "stream",
          "name": "stderr",
          "text": [
            "/tmp/ipython-input-4067900163.py:3: FutureWarning: \n",
            "\n",
            "Passing `palette` without assigning `hue` is deprecated and will be removed in v0.14.0. Assign the `x` variable to `hue` and set `legend=False` for the same effect.\n",
            "\n",
            "  sns.countplot(x=y, palette='viridis')\n"
          ]
        },
        {
          "output_type": "display_data",
          "data": {
            "text/plain": [
              "<Figure size 800x500 with 1 Axes>"
            ],
            "image/png": "[encoded data removed]"
          },
          "metadata": {}
        }
      ]
    },
    {
      "cell_type": "code",
      "source": [
        "# Show sample images\n",
        "def show_samples(images, y, n=10):\n",
        "    plt.figure(figsize=(12, 2))\n",
        "    for i in range(n):\n",
        "        plt.subplot(1, n, i+1)\n",
        "        plt.imshow(images[i].reshape(28,28), cmap='gray')\n",
        "        plt.title(y[i])\n",
        "        plt.axis('off')\n",
        "    plt.show()\n",
        "\n",
        "show_samples(x.values, y.values, n=10)"
      ],
      "metadata": {
        "colab": {
          "base_uri": "https://localhost:8080/",
          "height": 126
        },
        "id": "_2KlNCewewxQ",
        "outputId": "a8cab1a6-d621-4469-a37f-b982544654ca"
      },
      "execution_count": null,
      "outputs": [
        {
          "output_type": "display_data",
          "data": {
            "text/plain": [
              "<Figure size 1200x200 with 10 Axes>"
            ],
            "image/png": "[encoded data removed]"
          },
          "metadata": {}
        }
      ]
    },
    {
      "cell_type": "markdown",
      "source": [
        "# 4. Train test split\n",
        "# =========================================="
      ],
      "metadata": {
        "id": "SX36rgMp_yGU"
      }
    },
    {
      "cell_type": "code",
      "source": [
        "# for putorch model it should be must to convert the datafram data into pytorch tensor (numpy array) becuse for fast caculation\n",
        "\n",
        "X_train, X_test, y_train, y_test = train_test_split(x, y, test_size=0.2, random_state=42)\n",
        "\n",
        "# Convert features and labels to PyTorch tensors\n",
        "X_train = torch.tensor(X_train.values, dtype=torch.float32)\n",
        "X_test = torch.tensor(X_test.values, dtype=torch.float32)\n",
        "y_train = torch.tensor(y_train.values, dtype=torch.long)\n",
        "y_test = torch.tensor(y_test.values, dtype=torch.long)\n",
        "\n",
        "X_train"
      ],
      "metadata": {
        "id": "aP1d-aXC_MMa",
        "colab": {
          "base_uri": "https://localhost:8080/"
        },
        "outputId": "4ae76b8e-c773-4f7a-84cb-e58b2558c784"
      },
      "execution_count": null,
      "outputs": [
        {
          "output_type": "execute_result",
          "data": {
            "text/plain": [
              "tensor([[ 0.,  0.,  0.,  ...,  0.,  0.,  0.],\n",
              "        [ 0.,  0.,  0.,  ...,  0.,  0.,  0.],\n",
              "        [ 0.,  0.,  0.,  ...,  0.,  0.,  0.],\n",
              "        ...,\n",
              "        [ 0.,  0.,  0.,  ...,  0.,  0.,  0.],\n",
              "        [ 0.,  0.,  0.,  ...,  0.,  0.,  0.],\n",
              "        [ 0.,  0.,  0.,  ..., 16.,  0.,  0.]])"
            ]
          },
          "metadata": {},
          "execution_count": 23
        }
      ]
    },
    {
      "cell_type": "markdown",
      "source": [
        "# 4. Transform\n",
        "# =========================================="
      ],
      "metadata": {
        "id": "RTOaR6Bs_n_G"
      }
    },
    {
      "cell_type": "markdown",
      "source": [
        "### 1️⃣ What is a transformation?(A module that contain mani classes like resize, centercrop, normalize etc)\n",
        "##### A transformation is simply an operation you apply to your input data before feeding it into a model.In torchvision.transforms, it’s usually used for images, but in general, transformations are just preprocessing steps\n",
        "\n",
        "### 2️⃣ Why we use transformations\n",
        "We use them to:\n",
        "\n",
        "Resize / reshape data so it fits the model input size.\n",
        "\n",
        "Convert formats (like images → tensors).\n",
        "\n",
        "Normalize data so pixel values are on a standard scale.\n",
        "\n",
        "Augment data (random flips, rotations) to make the model generalize better."
      ],
      "metadata": {
        "id": "rHKkzZD4Gp0F"
      }
    },
    {
      "cell_type": "code",
      "source": [
        "custom_transform = transforms.Compose([\n",
        "    transforms.Resize(256),                     # 1. Resize image so smaller edge = 256px\n",
        "    transforms.CenterCrop(224),                 # 2. Crop center 224×224 (ImageNet models expect this)\n",
        "    transforms.ToTensor(),                      # 3. Convert from PIL Image to PyTorch Tensor [0,1]\n",
        "    transforms.Normalize(                        # 4. Normalize using ImageNet mean/std\n",
        "        mean=[0.485, 0.456, 0.406],\n",
        "        std=[0.229, 0.224, 0.225]\n",
        "    )\n",
        "])\n"
      ],
      "metadata": {
        "id": "Vq65Xas6_MCQ"
      },
      "execution_count": null,
      "outputs": []
    },
    {
      "cell_type": "markdown",
      "source": [
        "# 5 CUSTOM DATASET\n",
        "# =========================================="
      ],
      "metadata": {
        "id": "pvjTwRnI_q9h"
      }
    },
    {
      "cell_type": "code",
      "source": [
        "from PIL import Image\n",
        "import numpy as np\n",
        "\n",
        "class CustomDataset(Dataset):\n",
        "\n",
        "  def __init__(self, features, labels, transform):\n",
        "    # Assign features and labels directly (now tensors)\n",
        "    self.features = features\n",
        "    self.labels = labels\n",
        "    self.transform = transform\n",
        "\n",
        "  def __len__(self):\n",
        "    return len(self.features)\n",
        "\n",
        "  def __getitem__(self, index):\n",
        "\n",
        "    # resize to (28, 28)\n",
        "    image = self.features[index].reshape(28,28)\n",
        "\n",
        "    # change datatype to np.uint8\n",
        "    image = image.numpy().astype(np.uint8)\n",
        "\n",
        "    # change black&white to color -> (H,W,C) -> (C,H,W)\n",
        "    image = np.stack([image]*3, axis=-1)\n",
        "\n",
        "    # convert array to PIL image\n",
        "    image = Image.fromarray(image)\n",
        "\n",
        "    # apply transforms\n",
        "    image = self.transform(image)\n",
        "\n",
        "    # return\n",
        "    return image, torch.tensor(self.labels[index], dtype=torch.long)"
      ],
      "metadata": {
        "id": "UQ4o-KPtjxLl"
      },
      "execution_count": null,
      "outputs": []
    },
    {
      "cell_type": "markdown",
      "source": [
        "# 7. DATALOADERS\n",
        "# =========================================="
      ],
      "metadata": {
        "id": "wGa_J34RkWt6"
      }
    },
    {
      "cell_type": "code",
      "source": [
        "train_dataset = CustomDataset(X_train, y_train, transform=custom_transform)\n",
        "test_dataset = CustomDataset(X_test, y_test, transform=custom_transform)\n",
        "\n",
        "train_loader = DataLoader(train_dataset, batch_size=32, shuffle=True, pin_memory=True)\n",
        "test_loader = DataLoader(test_dataset, batch_size=32, shuffle=False, pin_memory=True)"
      ],
      "metadata": {
        "id": "CLz6-I-ejxE1"
      },
      "execution_count": null,
      "outputs": []
    },
    {
      "cell_type": "markdown",
      "source": [
        "# 8. LOAD PRE-TRAINED RESNET50\n",
        "# =========================================="
      ],
      "metadata": {
        "id": "KK2D137kklSn"
      }
    },
    {
      "cell_type": "code",
      "source": [
        "# fetch the pretrained model\n",
        "\n",
        "import torchvision.models as models\n",
        "\n",
        "vgg16 = models.vgg16(pretrained=True)\n",
        "vgg16"
      ],
      "metadata": {
        "id": "xQN6PQMSjxBC",
        "colab": {
          "base_uri": "https://localhost:8080/"
        },
        "outputId": "d8f9c927-426d-4a56-bb2d-0f08f14ca6bb"
      },
      "execution_count": null,
      "outputs": [
        {
          "output_type": "stream",
          "name": "stderr",
          "text": [
            "/usr/local/lib/python3.11/dist-packages/torchvision/models/_utils.py:208: UserWarning: The parameter 'pretrained' is deprecated since 0.13 and may be removed in the future, please use 'weights' instead.\n",
            "  warnings.warn(\n",
            "/usr/local/lib/python3.11/dist-packages/torchvision/models/_utils.py:223: UserWarning: Arguments other than a weight enum or `None` for 'weights' are deprecated since 0.13 and may be removed in the future. The current behavior is equivalent to passing `weights=VGG16_Weights.IMAGENET1K_V1`. You can also use `weights=VGG16_Weights.DEFAULT` to get the most up-to-date weights.\n",
            "  warnings.warn(msg)\n",
            "Downloading: \"https://download.pytorch.org/models/vgg16-397923af.pth\" to /root/.cache/torch/hub/checkpoints/vgg16-397923af.pth\n",
            "100%|██████████| 528M/528M [00:03<00:00, 140MB/s]\n"
          ]
        },
        {
          "output_type": "execute_result",
          "data": {
            "text/plain": [
              "VGG(\n",
              "  (features): Sequential(\n",
              "    (0): Conv2d(3, 64, kernel_size=(3, 3), stride=(1, 1), padding=(1, 1))\n",
              "    (1): ReLU(inplace=True)\n",
              "    (2): Conv2d(64, 64, kernel_size=(3, 3), stride=(1, 1), padding=(1, 1))\n",
              "    (3): ReLU(inplace=True)\n",
              "    (4): MaxPool2d(kernel_size=2, stride=2, padding=0, dilation=1, ceil_mode=False)\n",
              "    (5): Conv2d(64, 128, kernel_size=(3, 3), stride=(1, 1), padding=(1, 1))\n",
              "    (6): ReLU(inplace=True)\n",
              "    (7): Conv2d(128, 128, kernel_size=(3, 3), stride=(1, 1), padding=(1, 1))\n",
              "    (8): ReLU(inplace=True)\n",
              "    (9): MaxPool2d(kernel_size=2, stride=2, padding=0, dilation=1, ceil_mode=False)\n",
              "    (10): Conv2d(128, 256, kernel_size=(3, 3), stride=(1, 1), padding=(1, 1))\n",
              "    (11): ReLU(inplace=True)\n",
              "    (12): Conv2d(256, 256, kernel_size=(3, 3), stride=(1, 1), padding=(1, 1))\n",
              "    (13): ReLU(inplace=True)\n",
              "    (14): Conv2d(256, 256, kernel_size=(3, 3), stride=(1, 1), padding=(1, 1))\n",
              "    (15): ReLU(inplace=True)\n",
              "    (16): MaxPool2d(kernel_size=2, stride=2, padding=0, dilation=1, ceil_mode=False)\n",
              "    (17): Conv2d(256, 512, kernel_size=(3, 3), stride=(1, 1), padding=(1, 1))\n",
              "    (18): ReLU(inplace=True)\n",
              "    (19): Conv2d(512, 512, kernel_size=(3, 3), stride=(1, 1), padding=(1, 1))\n",
              "    (20): ReLU(inplace=True)\n",
              "    (21): Conv2d(512, 512, kernel_size=(3, 3), stride=(1, 1), padding=(1, 1))\n",
              "    (22): ReLU(inplace=True)\n",
              "    (23): MaxPool2d(kernel_size=2, stride=2, padding=0, dilation=1, ceil_mode=False)\n",
              "    (24): Conv2d(512, 512, kernel_size=(3, 3), stride=(1, 1), padding=(1, 1))\n",
              "    (25): ReLU(inplace=True)\n",
              "    (26): Conv2d(512, 512, kernel_size=(3, 3), stride=(1, 1), padding=(1, 1))\n",
              "    (27): ReLU(inplace=True)\n",
              "    (28): Conv2d(512, 512, kernel_size=(3, 3), stride=(1, 1), padding=(1, 1))\n",
              "    (29): ReLU(inplace=True)\n",
              "    (30): MaxPool2d(kernel_size=2, stride=2, padding=0, dilation=1, ceil_mode=False)\n",
              "  )\n",
              "  (avgpool): AdaptiveAvgPool2d(output_size=(7, 7))\n",
              "  (classifier): Sequential(\n",
              "    (0): Linear(in_features=25088, out_features=4096, bias=True)\n",
              "    (1): ReLU(inplace=True)\n",
              "    (2): Dropout(p=0.5, inplace=False)\n",
              "    (3): Linear(in_features=4096, out_features=4096, bias=True)\n",
              "    (4): ReLU(inplace=True)\n",
              "    (5): Dropout(p=0.5, inplace=False)\n",
              "    (6): Linear(in_features=4096, out_features=1000, bias=True)\n",
              "  )\n",
              ")"
            ]
          },
          "metadata": {},
          "execution_count": 13
        }
      ]
    },
    {
      "cell_type": "markdown",
      "source": [
        "## Information about the vgg16 archetecture :"
      ],
      "metadata": {
        "id": "FVJ882iQZURx"
      }
    },
    {
      "cell_type": "markdown",
      "source": [
        "25088 = comes from the feature map size after the convolutional + pooling layers:\n",
        "\n",
        "7\n",
        "×\n",
        "7\n",
        "×\n",
        "512\n",
        "=\n",
        "25088\n",
        "\n",
        "7×7×512=25088\n",
        "This part is fixed by your input image size and the network’s convolutional structure.\n",
        "\n",
        "Feature extractor output (25088) = the number of inputs going into this dense layer.\n",
        "\n",
        "4096 = the number of neurons in this layer, so each neuron learns a different combination of the 25088 input features.\n",
        "\n",
        "Each neuron has 25088 weights + 1 bias, so the total parameters for this layer are:\n",
        "\n",
        "25088\n",
        "×\n",
        "4096\n",
        "+\n",
        "4096\n",
        "=\n",
        "102\n",
        ",\n",
        "764\n",
        ",\n",
        "544\n",
        "25088×4096+4096=102,764,544\n",
        "That’s over 102 million parameters just for this single layer 😅 — no wonder VGG16 is heavy."
      ],
      "metadata": {
        "id": "kQ3iPtLZYUNU"
      }
    },
    {
      "cell_type": "markdown",
      "source": [
        "\n",
        "📏 Step-by-step size tracking for VGG16\n",
        "We start with input image:\n",
        "224 × 224 × 3\n",
        "\n",
        "Block 1\n",
        "Conv1: 3 → 64 filters, padding=1, stride=1 → size stays 224 × 224 × 64\n",
        "\n",
        "Conv2: 64 → 64, padding=1 → size stays 224 × 224 × 64\n",
        "\n",
        "MaxPool: kernel=2, stride=2 → 112 × 112 × 64\n",
        "\n",
        "Block 2\n",
        "Conv3: 64 → 128 → size 112 × 112 × 128\n",
        "\n",
        "Conv4: 128 → 128 → size 112 × 112 × 128\n",
        "\n",
        "MaxPool → 56 × 56 × 128\n",
        "\n",
        "Block 3\n",
        "Conv5: 128 → 256 → 56 × 56 × 256\n",
        "\n",
        "Conv6: 256 → 256 → 56 × 56 × 256\n",
        "\n",
        "Conv7: 256 → 256 → 56 × 56 × 256\n",
        "\n",
        "MaxPool → 28 × 28 × 256\n",
        "\n",
        "Block 4\n",
        "Conv8: 256 → 512 → 28 × 28 × 512\n",
        "\n",
        "Conv9: 512 → 512 → 28 × 28 × 512\n",
        "\n",
        "Conv10: 512 → 512 → 28 × 28 × 512\n",
        "\n",
        "MaxPool → 14 × 14 × 512\n",
        "\n",
        "Block 5\n",
        "Conv11: 512 → 512 → 14 × 14 × 512\n",
        "\n",
        "Conv12: 512 → 512 → 14 × 14 × 512\n",
        "\n",
        "Conv13: 512 → 512 → 14 × 14 × 512\n",
        "\n",
        "MaxPool (your example layer) → 7 × 7 × 512\n",
        "\n",
        "✅ So before your last MaxPool, the input to that layer is:\n",
        "Height = 14, Width = 14, Depth = 512\n",
        "\n",
        "After pooling with kernel=2, stride=2:\n",
        "Output = 7 × 7 × 512\n",
        "\n",
        "That’s why, when flattened:\n",
        "\n",
        "7\n",
        "×\n",
        "7\n",
        "×\n",
        "512\n",
        "=\n",
        "25088\n",
        "7×7×512=25088\n",
        "\n",
        "Feature extractor output (25088) = the number of inputs going into this dense layer.\n",
        "\n",
        "4096 = the number of neurons in this layer, so each neuron learns a different combination of the 25088 input features.\n",
        "\n",
        "Each neuron has 25088 weights + 1 bias, so the total parameters for this layer are:\n",
        "\n",
        "25088\n",
        "×\n",
        "4096\n",
        "+\n",
        "4096\n",
        "=\n",
        "102\n",
        ",\n",
        "764\n",
        ",\n",
        "544\n",
        "25088×4096+4096=102,764,544\n",
        "That’s over 102 million parameters just for this single layer 😅 — no wonder VGG16 is heavy.\n",
        "\n"
      ],
      "metadata": {
        "id": "OJf6zsZ9XnQ3"
      }
    },
    {
      "cell_type": "markdown",
      "source": [
        "## This is just information that how vgg model train on imagenet dataset with input size(224,224,3)"
      ],
      "metadata": {
        "id": "Oj06ES2VM0Wx"
      }
    },
    {
      "cell_type": "code",
      "source": [
        "from PIL import Image\n",
        "import matplotlib.pyplot as plt\n",
        "\n",
        "# Load the image\n",
        "img = Image.open('/content/WhatsApp Image 2025-08-12 at 12.32.12_01baaf54.jpg')\n",
        "\n",
        "# Display the image\n",
        "plt.imshow(img)\n",
        "plt.axis('off') # Hide axes\n",
        "plt.show()"
      ],
      "metadata": {
        "colab": {
          "base_uri": "https://localhost:8080/",
          "height": 310
        },
        "id": "K9RExgHhMP7f",
        "outputId": "c788badf-df1f-4df0-f41d-b7764e7ea048"
      },
      "execution_count": null,
      "outputs": [
        {
          "output_type": "display_data",
          "data": {
            "text/plain": [
              "<Figure size 640x480 with 1 Axes>"
            ],
            "image/png": "[encoded data removed]"
          },
          "metadata": {}
        }
      ]
    },
    {
      "cell_type": "markdown",
      "source": [
        "How to Freeze More Layers\n",
        "VGG16 has two main parts:\n",
        "\n",
        "vgg16.features → convolutional layers (good to freeze)\n",
        "\n",
        "vgg16.classifier → fully connected layers (usually trainable"
      ],
      "metadata": {
        "id": "04g_bNZELgDr"
      }
    },
    {
      "cell_type": "code",
      "source": [
        "# Freeze all conv layers first\n",
        "for param in vgg16.features.parameters():\n",
        "  param.requires_grad=False\n",
        "\n",
        "\n",
        "  # Unfreeze the last convolutional layer\n",
        "#for param in vgg16.features[28].parameters():\n",
        " #   param.requires_grad = True\n"
      ],
      "metadata": {
        "id": "nNpDVNbWJkgq"
      },
      "execution_count": null,
      "outputs": []
    },
    {
      "cell_type": "code",
      "source": [
        "vgg16.classifier = nn.Sequential(\n",
        "    nn.Linear(25088, 512),\n",
        "    nn.ReLU(),\n",
        "    nn.Dropout(0.8),\n",
        "    nn.Linear(512, 10)\n",
        ")\n",
        "\n",
        "\n",
        "learning_rate = 0.0005\n",
        "epochs = 25\n",
        "\n",
        "criterion = nn.CrossEntropyLoss()\n",
        "optimizer = optim.Adam(vgg16.classifier.parameters(), lr=learning_rate)\n",
        "\n",
        "# Last Unfreez\n",
        "# {\"params\": vgg16.features[28].parameters(), \"lr\": learning_rate * 0.05},  # even smaller LR for conv layer"
      ],
      "metadata": {
        "id": "gT08WKhjAde0"
      },
      "execution_count": null,
      "outputs": []
    },
    {
      "cell_type": "markdown",
      "source": [
        "# 10. TRAINING LOOP\n",
        "# =========================================="
      ],
      "metadata": {
        "id": "HCW1NtucBHYD"
      }
    },
    {
      "cell_type": "markdown",
      "source": [
        "Effect on Overfitting\n",
        "Freeze more layers → fewer trainable parameters → less overfitting risk.\n",
        "\n",
        "Freeze fewer layers → more adaptation to your dataset but higher overfitting risk.\n",
        "\n"
      ],
      "metadata": {
        "id": "8mNDXU5PNjev"
      }
    },
    {
      "cell_type": "code",
      "source": [
        "# training loop\n",
        "\n",
        "# Move model to device (GPU if available)\n",
        "device = torch.device(\"cuda\" if torch.cuda.is_available() else \"cpu\")\n",
        "vgg16 = vgg16.to(device)\n",
        "\n",
        "train_acc = []\n",
        "val_acc = []\n",
        "\n",
        "for epoch in range(epochs):\n",
        "\n",
        "  total_epoch_loss = 0\n",
        "  correct_train = 0\n",
        "  total_train = 0\n",
        "\n",
        "  vgg16.train() # Set model to training mode\n",
        "\n",
        "  for batch_features, batch_labels in train_loader:\n",
        "\n",
        "    # move data to gpu\n",
        "    batch_features, batch_labels = batch_features.to(device), batch_labels.to(device)\n",
        "\n",
        "    # forward pass\n",
        "    outputs = vgg16(batch_features)\n",
        "\n",
        "    # calculate loss\n",
        "    loss = criterion(outputs, batch_labels)\n",
        "\n",
        "    # back pass\n",
        "    optimizer.zero_grad()\n",
        "    loss.backward()\n",
        "\n",
        "    # update grads\n",
        "    optimizer.step()\n",
        "\n",
        "    total_epoch_loss += loss.item()\n",
        "\n",
        "    _, predicted = torch.max(outputs.data, 1)\n",
        "    total_train += batch_labels.size(0)\n",
        "    correct_train += (predicted == batch_labels).sum().item()\n",
        "\n",
        "\n",
        "  # Calculate training accuracy\n",
        "  train_accuracy = 100 * correct_train / total_train\n",
        "  train_acc.append(train_accuracy)\n",
        "\n",
        "\n",
        "  # Evaluate on validation data\n",
        "  vgg16.eval() # Set model to evaluation mode\n",
        "  correct_val = 0\n",
        "  total_val = 0\n",
        "  with torch.no_grad():\n",
        "      for batch_features, batch_labels in test_loader: # Assuming test_loader is for validation\n",
        "          batch_features, batch_labels = batch_features.to(device), batch_labels.to(device)\n",
        "          outputs = vgg16(batch_features)\n",
        "          _, predicted = torch.max(outputs.data, 1)\n",
        "          total_val += batch_labels.size(0)\n",
        "          correct_val += (predicted == batch_labels).sum().item()\n",
        "\n",
        "  val_accuracy = 100 * correct_val / total_val\n",
        "  val_acc.append(val_accuracy)\n",
        "\n",
        "\n",
        "  avg_loss = total_epoch_loss/len(train_loader)\n",
        "  print(f'Epoch [{epoch + 1}/{epochs}], Loss: {avg_loss:.4f}, Train Acc: {train_accuracy:.2f}%, Val Acc: {val_accuracy:.2f}%')"
      ],
      "metadata": {
        "colab": {
          "base_uri": "https://localhost:8080/"
        },
        "id": "FoDX08o_Adda",
        "outputId": "55617c68-33e8-4db2-eba6-e4fdca965bd5"
      },
      "execution_count": null,
      "outputs": [
        {
          "output_type": "stream",
          "name": "stderr",
          "text": [
            "/tmp/ipython-input-748920540.py:33: UserWarning: To copy construct from a tensor, it is recommended to use sourceTensor.clone().detach() or sourceTensor.clone().detach().requires_grad_(True), rather than torch.tensor(sourceTensor).\n",
            "  return image, torch.tensor(self.labels[index], dtype=torch.long)\n"
          ]
        },
        {
          "output_type": "stream",
          "name": "stdout",
          "text": [
            "Epoch [1/25], Loss: 0.7865, Train Acc: 73.81%, Val Acc: 86.25%\n",
            "Epoch [2/25], Loss: 0.4929, Train Acc: 82.90%, Val Acc: 86.00%\n",
            "Epoch [3/25], Loss: 0.4057, Train Acc: 85.19%, Val Acc: 87.67%\n",
            "Epoch [4/25], Loss: 0.3493, Train Acc: 87.50%, Val Acc: 88.75%\n",
            "Epoch [5/25], Loss: 0.3125, Train Acc: 89.02%, Val Acc: 89.00%\n",
            "Epoch [6/25], Loss: 0.2569, Train Acc: 90.50%, Val Acc: 88.67%\n",
            "Epoch [7/25], Loss: 0.2607, Train Acc: 90.73%, Val Acc: 89.08%\n",
            "Epoch [8/25], Loss: 0.2499, Train Acc: 91.54%, Val Acc: 89.08%\n",
            "Epoch [9/25], Loss: 0.2220, Train Acc: 91.83%, Val Acc: 89.17%\n",
            "Epoch [10/25], Loss: 0.1805, Train Acc: 93.73%, Val Acc: 89.33%\n",
            "Epoch [11/25], Loss: 0.1910, Train Acc: 93.00%, Val Acc: 89.92%\n",
            "Epoch [12/25], Loss: 0.1837, Train Acc: 93.29%, Val Acc: 89.33%\n",
            "Epoch [13/25], Loss: 0.1766, Train Acc: 93.96%, Val Acc: 89.42%\n",
            "Epoch [14/25], Loss: 0.1710, Train Acc: 94.29%, Val Acc: 89.25%\n",
            "Epoch [15/25], Loss: 0.1749, Train Acc: 94.06%, Val Acc: 89.75%\n",
            "Epoch [16/25], Loss: 0.1664, Train Acc: 94.15%, Val Acc: 89.67%\n",
            "Epoch [17/25], Loss: 0.1665, Train Acc: 94.38%, Val Acc: 89.75%\n",
            "Epoch [18/25], Loss: 0.1499, Train Acc: 94.67%, Val Acc: 89.50%\n",
            "Epoch [19/25], Loss: 0.1579, Train Acc: 94.31%, Val Acc: 89.25%\n",
            "Epoch [20/25], Loss: 0.1435, Train Acc: 95.17%, Val Acc: 89.17%\n",
            "Epoch [21/25], Loss: 0.1449, Train Acc: 95.52%, Val Acc: 89.75%\n",
            "Epoch [22/25], Loss: 0.1337, Train Acc: 95.02%, Val Acc: 89.67%\n",
            "Epoch [23/25], Loss: 0.1420, Train Acc: 95.38%, Val Acc: 90.17%\n",
            "Epoch [24/25], Loss: 0.1453, Train Acc: 95.02%, Val Acc: 89.83%\n",
            "Epoch [25/25], Loss: 0.1192, Train Acc: 95.83%, Val Acc: 89.50%\n"
          ]
        }
      ]
    },
    {
      "cell_type": "code",
      "source": [
        "import matplotlib.pyplot as plt\n",
        "\n",
        "# After training loop completes:\n",
        "\n",
        "epochs_range = range(1, epochs + 1)\n",
        "\n",
        "plt.figure(figsize=(10, 6))\n",
        "\n",
        "plt.plot(epochs_range, train_acc, label='Training Accuracy', marker='o')\n",
        "plt.plot(epochs_range, val_acc, label='Validation Accuracy', marker='o')\n",
        "\n",
        "plt.title('Training and Validation Accuracy')\n",
        "plt.xlabel('Epochs')\n",
        "plt.ylabel('Accuracy (%)')\n",
        "plt.legend()\n",
        "plt.grid(True)\n",
        "plt.show()\n"
      ],
      "metadata": {
        "colab": {
          "base_uri": "https://localhost:8080/",
          "height": 564
        },
        "id": "D8w51GEARqzN",
        "outputId": "8160799a-3322-4a6d-fa3d-4b70016e4a0d"
      },
      "execution_count": null,
      "outputs": [
        {
          "output_type": "display_data",
          "data": {
            "text/plain": [
              "<Figure size 1000x600 with 1 Axes>"
            ],
            "image/png": "[encoded data removed]"
          },
          "metadata": {}
        }
      ]
    },
    {
      "cell_type": "markdown",
      "source": [
        "# Resnet 18 :"
      ],
      "metadata": {
        "id": "8mf41-JHNiPD"
      }
    },
    {
      "cell_type": "code",
      "source": [
        "import torch\n",
        "import torch.nn as nn\n",
        "import torchvision.models as models\n",
        "import torch.optim as optim\n",
        "\n",
        "# Load pretrained ResNet18 model\n",
        "resnet18 = models.resnet18(pretrained=True)\n",
        "\n",
        "# Modify the final fully connected layer for 10 classes (Fashion MNIST)\n",
        "num_features = resnet18.fc.in_features\n",
        "resnet18.fc = nn.Sequential(\n",
        "    nn.Linear(num_features, 512),\n",
        "    nn.ReLU(),\n",
        "    nn.Dropout(0.7),\n",
        "    nn.Linear(512, 10)\n",
        ")\n",
        "\n",
        "# Move model to device\n",
        "device = torch.device(\"cuda\" if torch.cuda.is_available() else \"cpu\")\n",
        "resnet18 = resnet18.to(device)\n",
        "\n",
        "# Define loss and optimizer (only train resnet18.fc parameters)\n",
        "criterion = nn.CrossEntropyLoss()\n",
        "optimizer = optim.Adam(resnet18.fc.parameters(), lr=0.0005)\n",
        "\n",
        "train_acc = []\n",
        "val_acc = []\n",
        "\n",
        "for epoch in range(epochs):\n",
        "\n",
        "    total_epoch_loss = 0\n",
        "    correct_train = 0\n",
        "    total_train = 0\n",
        "\n",
        "    resnet18.train()  # Set model to training mode\n",
        "\n",
        "    for batch_features, batch_labels in train_loader:\n",
        "\n",
        "        batch_features, batch_labels = batch_features.to(device), batch_labels.to(device)\n",
        "\n",
        "        outputs = resnet18(batch_features)\n",
        "\n",
        "        loss = criterion(outputs, batch_labels)\n",
        "\n",
        "        optimizer.zero_grad()\n",
        "        loss.backward()\n",
        "        optimizer.step()\n",
        "\n",
        "        total_epoch_loss += loss.item()\n",
        "\n",
        "        _, predicted = torch.max(outputs.data, 1)\n",
        "        total_train += batch_labels.size(0)\n",
        "        correct_train += (predicted == batch_labels).sum().item()\n",
        "\n",
        "    train_accuracy = 100 * correct_train / total_train\n",
        "    train_acc.append(train_accuracy)\n",
        "\n",
        "    resnet18.eval()  # Set model to evaluation mode\n",
        "    correct_val = 0\n",
        "    total_val = 0\n",
        "\n",
        "    with torch.no_grad():\n",
        "        for batch_features, batch_labels in test_loader:  # Use test_loader for validation data\n",
        "            batch_features, batch_labels = batch_features.to(device), batch_labels.to(device)\n",
        "            outputs = resnet18(batch_features)\n",
        "            _, predicted = torch.max(outputs.data, 1)\n",
        "            total_val += batch_labels.size(0)\n",
        "            correct_val += (predicted == batch_labels).sum().item()\n",
        "\n",
        "    val_accuracy = 100 * correct_val / total_val\n",
        "    val_acc.append(val_accuracy)\n",
        "\n",
        "    avg_loss = total_epoch_loss / len(train_loader)\n",
        "    print(f'Epoch [{epoch + 1}/{epochs}], Loss: {avg_loss:.4f}, Train Acc: {train_accuracy:.2f}%, Val Acc: {val_accuracy:.2f}%')"
      ],
      "metadata": {
        "colab": {
          "base_uri": "https://localhost:8080/"
        },
        "id": "y7k41V_PQt3q",
        "outputId": "223f06e1-6953-4cd4-f6dd-77ab7e4b927a"
      },
      "execution_count": null,
      "outputs": [
        {
          "output_type": "stream",
          "name": "stderr",
          "text": [
            "/usr/local/lib/python3.11/dist-packages/torchvision/models/_utils.py:223: UserWarning: Arguments other than a weight enum or `None` for 'weights' are deprecated since 0.13 and may be removed in the future. The current behavior is equivalent to passing `weights=ResNet18_Weights.IMAGENET1K_V1`. You can also use `weights=ResNet18_Weights.DEFAULT` to get the most up-to-date weights.\n",
            "  warnings.warn(msg)\n",
            "Downloading: \"https://download.pytorch.org/models/resnet18-f37072fd.pth\" to /root/.cache/torch/hub/checkpoints/resnet18-f37072fd.pth\n",
            "100%|██████████| 44.7M/44.7M [00:00<00:00, 138MB/s]\n",
            "/tmp/ipython-input-748920540.py:33: UserWarning: To copy construct from a tensor, it is recommended to use sourceTensor.clone().detach() or sourceTensor.clone().detach().requires_grad_(True), rather than torch.tensor(sourceTensor).\n",
            "  return image, torch.tensor(self.labels[index], dtype=torch.long)\n"
          ]
        },
        {
          "output_type": "stream",
          "name": "stdout",
          "text": [
            "Epoch [1/25], Loss: 1.4282, Train Acc: 50.21%, Val Acc: 75.67%\n",
            "Epoch [2/25], Loss: 0.8826, Train Acc: 70.04%, Val Acc: 77.50%\n",
            "Epoch [3/25], Loss: 0.7589, Train Acc: 73.52%, Val Acc: 77.75%\n",
            "Epoch [4/25], Loss: 0.6953, Train Acc: 75.83%, Val Acc: 79.08%\n",
            "Epoch [5/25], Loss: 0.6494, Train Acc: 77.15%, Val Acc: 78.83%\n",
            "Epoch [6/25], Loss: 0.6249, Train Acc: 78.60%, Val Acc: 79.42%\n",
            "Epoch [7/25], Loss: 0.5979, Train Acc: 78.69%, Val Acc: 80.50%\n",
            "Epoch [8/25], Loss: 0.5756, Train Acc: 79.40%, Val Acc: 80.17%\n",
            "Epoch [9/25], Loss: 0.5686, Train Acc: 79.67%, Val Acc: 80.83%\n",
            "Epoch [10/25], Loss: 0.5500, Train Acc: 80.33%, Val Acc: 81.08%\n",
            "Epoch [11/25], Loss: 0.5365, Train Acc: 80.60%, Val Acc: 81.50%\n",
            "Epoch [12/25], Loss: 0.5296, Train Acc: 80.69%, Val Acc: 81.92%\n",
            "Epoch [13/25], Loss: 0.4924, Train Acc: 82.12%, Val Acc: 81.58%\n",
            "Epoch [14/25], Loss: 0.4914, Train Acc: 82.17%, Val Acc: 81.42%\n",
            "Epoch [15/25], Loss: 0.4835, Train Acc: 82.58%, Val Acc: 81.83%\n",
            "Epoch [16/25], Loss: 0.4760, Train Acc: 82.60%, Val Acc: 81.83%\n",
            "Epoch [17/25], Loss: 0.4773, Train Acc: 82.58%, Val Acc: 82.33%\n",
            "Epoch [18/25], Loss: 0.4693, Train Acc: 83.10%, Val Acc: 81.67%\n",
            "Epoch [19/25], Loss: 0.4582, Train Acc: 83.54%, Val Acc: 82.92%\n",
            "Epoch [20/25], Loss: 0.4563, Train Acc: 83.60%, Val Acc: 81.83%\n",
            "Epoch [21/25], Loss: 0.4505, Train Acc: 83.75%, Val Acc: 81.83%\n",
            "Epoch [22/25], Loss: 0.4386, Train Acc: 83.52%, Val Acc: 82.58%\n",
            "Epoch [23/25], Loss: 0.4246, Train Acc: 84.21%, Val Acc: 82.42%\n",
            "Epoch [24/25], Loss: 0.4276, Train Acc: 84.46%, Val Acc: 81.67%\n",
            "Epoch [25/25], Loss: 0.4152, Train Acc: 84.56%, Val Acc: 81.75%\n"
          ]
        }
      ]
    },
    {
      "cell_type": "code",
      "source": [
        "import matplotlib.pyplot as plt\n",
        "\n",
        "epochs_range = range(1, epochs + 1)\n",
        "\n",
        "plt.figure(figsize=(10, 6))\n",
        "plt.plot(epochs_range, train_acc, marker='o', label='Training Accuracy')\n",
        "plt.plot(epochs_range, val_acc, marker='o', label='Validation Accuracy')\n",
        "plt.title('Training and Validation Accuracy Over Epochs')\n",
        "plt.xlabel('Epoch')\n",
        "plt.ylabel('Accuracy (%)')\n",
        "plt.legend()\n",
        "plt.grid(True)\n",
        "plt.show()\n"
      ],
      "metadata": {
        "colab": {
          "base_uri": "https://localhost:8080/",
          "height": 564
        },
        "id": "cFX8eGGuRuFt",
        "outputId": "d3431f40-5275-46ca-d00a-0dea7c7cbb7c"
      },
      "execution_count": null,
      "outputs": [
        {
          "output_type": "display_data",
          "data": {
            "text/plain": [
              "<Figure size 1000x600 with 1 Axes>"
            ],
            "image/png": "[encoded data removed]"
          },
          "metadata": {}
        }
      ]
    },
    {
      "cell_type": "code",
      "source": [],
      "metadata": {
        "id": "m8D6nUsaQs51"
      },
      "execution_count": null,
      "outputs": []
    },
    {
      "cell_type": "markdown",
      "source": [
        "# Evaluation on test data :\n",
        "============================================"
      ],
      "metadata": {
        "id": "fjwusvI_E8L-"
      }
    },
    {
      "cell_type": "code",
      "source": [
        "# evaluation on test data\n",
        "total = 0\n",
        "correct = 0\n",
        "\n",
        "with torch.no_grad():\n",
        "\n",
        "  for batch_features, batch_labels in test_loader:\n",
        "\n",
        "    # move data to gpu\n",
        "    batch_features, batch_labels = batch_features.to(device), batch_labels.to(device)\n",
        "\n",
        "    outputs = vgg16(batch_features)\n",
        "\n",
        "    _, predicted = torch.max(outputs, 1)\n",
        "\n",
        "    total = total + batch_labels.shape[0]\n",
        "\n",
        "    correct = correct + (predicted == batch_labels).sum().item()\n",
        "\n",
        "print(correct/total)"
      ],
      "metadata": {
        "colab": {
          "base_uri": "https://localhost:8080/"
        },
        "id": "N6LkgTkgE6O9",
        "outputId": "50fe36fa-15a1-400d-e796-7a020dfcbf32"
      },
      "execution_count": null,
      "outputs": [
        {
          "output_type": "stream",
          "name": "stderr",
          "text": [
            "/tmp/ipython-input-748920540.py:33: UserWarning: To copy construct from a tensor, it is recommended to use sourceTensor.clone().detach() or sourceTensor.clone().detach().requires_grad_(True), rather than torch.tensor(sourceTensor).\n",
            "  return image, torch.tensor(self.labels[index], dtype=torch.long)\n"
          ]
        },
        {
          "output_type": "stream",
          "name": "stdout",
          "text": [
            "0.895\n"
          ]
        }
      ]
    },
    {
      "cell_type": "markdown",
      "source": [
        "# 13. SAVE MODEL\n",
        "# =========================================="
      ],
      "metadata": {
        "id": "zvqAMbMll0ze"
      }
    },
    {
      "cell_type": "code",
      "source": [
        "torch.save(model.state_dict(), \"fmnist_resnet50.pth\")"
      ],
      "metadata": {
        "id": "uUm3bVDfk4Hb",
        "colab": {
          "base_uri": "https://localhost:8080/",
          "height": 141
        },
        "outputId": "3850d71a-bf25-4ea3-8d9f-dff67353450c"
      },
      "execution_count": null,
      "outputs": [
        {
          "output_type": "error",
          "ename": "NameError",
          "evalue": "name 'model' is not defined",
          "traceback": [
            "\u001b[0;31m---------------------------------------------------------------------------\u001b[0m",
            "\u001b[0;31mNameError\u001b[0m                                 Traceback (most recent call last)",
            "\u001b[0;32m/tmp/ipython-input-3572823244.py\u001b[0m in \u001b[0;36m<cell line: 0>\u001b[0;34m()\u001b[0m\n\u001b[0;32m----> 1\u001b[0;31m \u001b[0mtorch\u001b[0m\u001b[0;34m.\u001b[0m\u001b[0msave\u001b[0m\u001b[0;34m(\u001b[0m\u001b[0mmodel\u001b[0m\u001b[0;34m.\u001b[0m\u001b[0mstate_dict\u001b[0m\u001b[0;34m(\u001b[0m\u001b[0;34m)\u001b[0m\u001b[0;34m,\u001b[0m \u001b[0;34m\"fmnist_resnet50.pth\"\u001b[0m\u001b[0;34m)\u001b[0m\u001b[0;34m\u001b[0m\u001b[0;34m\u001b[0m\u001b[0m\n\u001b[0m",
            "\u001b[0;31mNameError\u001b[0m: name 'model' is not defined"
          ]
        }
      ]
    },
    {
      "cell_type": "code",
      "source": [],
      "metadata": {
        "id": "AvD3Saxzk4F3"
      },
      "execution_count": null,
      "outputs": []
    }
  ]
}